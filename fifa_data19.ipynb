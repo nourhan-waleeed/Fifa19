{
 "cells": [
  {
   "cell_type": "markdown",
   "metadata": {},
   "source": [
    "# CLEANING THE DATA\n"
   ]
  },
  {
   "cell_type": "code",
   "execution_count": 5,
   "metadata": {},
   "outputs": [],
   "source": [
    "import matplotlib.pyplot as plt\n",
    "import numpy as np\n",
    "import pandas as pd\n",
    "import seaborn"
   ]
  },
  {
   "cell_type": "code",
   "execution_count": 6,
   "metadata": {},
   "outputs": [],
   "source": [
    "fifa=pd.read_csv('fifa_data.csv',index_col=0)"
   ]
  },
  {
   "cell_type": "code",
   "execution_count": 7,
   "metadata": {},
   "outputs": [
    {
     "data": {
      "text/html": [
       "<div>\n",
       "<style scoped>\n",
       "    .dataframe tbody tr th:only-of-type {\n",
       "        vertical-align: middle;\n",
       "    }\n",
       "\n",
       "    .dataframe tbody tr th {\n",
       "        vertical-align: top;\n",
       "    }\n",
       "\n",
       "    .dataframe thead th {\n",
       "        text-align: right;\n",
       "    }\n",
       "</style>\n",
       "<table border=\"1\" class=\"dataframe\">\n",
       "  <thead>\n",
       "    <tr style=\"text-align: right;\">\n",
       "      <th></th>\n",
       "      <th>ID</th>\n",
       "      <th>Name</th>\n",
       "      <th>Age</th>\n",
       "      <th>Photo</th>\n",
       "      <th>Nationality</th>\n",
       "      <th>Flag</th>\n",
       "      <th>Overall</th>\n",
       "      <th>Potential</th>\n",
       "      <th>Club</th>\n",
       "      <th>Club Logo</th>\n",
       "      <th>...</th>\n",
       "      <th>Composure</th>\n",
       "      <th>Marking</th>\n",
       "      <th>StandingTackle</th>\n",
       "      <th>SlidingTackle</th>\n",
       "      <th>GKDiving</th>\n",
       "      <th>GKHandling</th>\n",
       "      <th>GKKicking</th>\n",
       "      <th>GKPositioning</th>\n",
       "      <th>GKReflexes</th>\n",
       "      <th>Release Clause</th>\n",
       "    </tr>\n",
       "  </thead>\n",
       "  <tbody>\n",
       "    <tr>\n",
       "      <th>0</th>\n",
       "      <td>158023</td>\n",
       "      <td>L. Messi</td>\n",
       "      <td>31</td>\n",
       "      <td>https://cdn.sofifa.org/players/4/19/158023.png</td>\n",
       "      <td>Argentina</td>\n",
       "      <td>https://cdn.sofifa.org/flags/52.png</td>\n",
       "      <td>94</td>\n",
       "      <td>94</td>\n",
       "      <td>FC Barcelona</td>\n",
       "      <td>https://cdn.sofifa.org/teams/2/light/241.png</td>\n",
       "      <td>...</td>\n",
       "      <td>96.0</td>\n",
       "      <td>33.0</td>\n",
       "      <td>28.0</td>\n",
       "      <td>26.0</td>\n",
       "      <td>6.0</td>\n",
       "      <td>11.0</td>\n",
       "      <td>15.0</td>\n",
       "      <td>14.0</td>\n",
       "      <td>8.0</td>\n",
       "      <td>€226.5M</td>\n",
       "    </tr>\n",
       "    <tr>\n",
       "      <th>1</th>\n",
       "      <td>20801</td>\n",
       "      <td>Cristiano Ronaldo</td>\n",
       "      <td>33</td>\n",
       "      <td>https://cdn.sofifa.org/players/4/19/20801.png</td>\n",
       "      <td>Portugal</td>\n",
       "      <td>https://cdn.sofifa.org/flags/38.png</td>\n",
       "      <td>94</td>\n",
       "      <td>94</td>\n",
       "      <td>Juventus</td>\n",
       "      <td>https://cdn.sofifa.org/teams/2/light/45.png</td>\n",
       "      <td>...</td>\n",
       "      <td>95.0</td>\n",
       "      <td>28.0</td>\n",
       "      <td>31.0</td>\n",
       "      <td>23.0</td>\n",
       "      <td>7.0</td>\n",
       "      <td>11.0</td>\n",
       "      <td>15.0</td>\n",
       "      <td>14.0</td>\n",
       "      <td>11.0</td>\n",
       "      <td>€127.1M</td>\n",
       "    </tr>\n",
       "    <tr>\n",
       "      <th>2</th>\n",
       "      <td>190871</td>\n",
       "      <td>Neymar Jr</td>\n",
       "      <td>26</td>\n",
       "      <td>https://cdn.sofifa.org/players/4/19/190871.png</td>\n",
       "      <td>Brazil</td>\n",
       "      <td>https://cdn.sofifa.org/flags/54.png</td>\n",
       "      <td>92</td>\n",
       "      <td>93</td>\n",
       "      <td>Paris Saint-Germain</td>\n",
       "      <td>https://cdn.sofifa.org/teams/2/light/73.png</td>\n",
       "      <td>...</td>\n",
       "      <td>94.0</td>\n",
       "      <td>27.0</td>\n",
       "      <td>24.0</td>\n",
       "      <td>33.0</td>\n",
       "      <td>9.0</td>\n",
       "      <td>9.0</td>\n",
       "      <td>15.0</td>\n",
       "      <td>15.0</td>\n",
       "      <td>11.0</td>\n",
       "      <td>€228.1M</td>\n",
       "    </tr>\n",
       "    <tr>\n",
       "      <th>3</th>\n",
       "      <td>193080</td>\n",
       "      <td>De Gea</td>\n",
       "      <td>27</td>\n",
       "      <td>https://cdn.sofifa.org/players/4/19/193080.png</td>\n",
       "      <td>Spain</td>\n",
       "      <td>https://cdn.sofifa.org/flags/45.png</td>\n",
       "      <td>91</td>\n",
       "      <td>93</td>\n",
       "      <td>Manchester United</td>\n",
       "      <td>https://cdn.sofifa.org/teams/2/light/11.png</td>\n",
       "      <td>...</td>\n",
       "      <td>68.0</td>\n",
       "      <td>15.0</td>\n",
       "      <td>21.0</td>\n",
       "      <td>13.0</td>\n",
       "      <td>90.0</td>\n",
       "      <td>85.0</td>\n",
       "      <td>87.0</td>\n",
       "      <td>88.0</td>\n",
       "      <td>94.0</td>\n",
       "      <td>€138.6M</td>\n",
       "    </tr>\n",
       "    <tr>\n",
       "      <th>4</th>\n",
       "      <td>192985</td>\n",
       "      <td>K. De Bruyne</td>\n",
       "      <td>27</td>\n",
       "      <td>https://cdn.sofifa.org/players/4/19/192985.png</td>\n",
       "      <td>Belgium</td>\n",
       "      <td>https://cdn.sofifa.org/flags/7.png</td>\n",
       "      <td>91</td>\n",
       "      <td>92</td>\n",
       "      <td>Manchester City</td>\n",
       "      <td>https://cdn.sofifa.org/teams/2/light/10.png</td>\n",
       "      <td>...</td>\n",
       "      <td>88.0</td>\n",
       "      <td>68.0</td>\n",
       "      <td>58.0</td>\n",
       "      <td>51.0</td>\n",
       "      <td>15.0</td>\n",
       "      <td>13.0</td>\n",
       "      <td>5.0</td>\n",
       "      <td>10.0</td>\n",
       "      <td>13.0</td>\n",
       "      <td>€196.4M</td>\n",
       "    </tr>\n",
       "  </tbody>\n",
       "</table>\n",
       "<p>5 rows × 88 columns</p>\n",
       "</div>"
      ],
      "text/plain": [
       "       ID               Name  Age  \\\n",
       "0  158023           L. Messi   31   \n",
       "1   20801  Cristiano Ronaldo   33   \n",
       "2  190871          Neymar Jr   26   \n",
       "3  193080             De Gea   27   \n",
       "4  192985       K. De Bruyne   27   \n",
       "\n",
       "                                            Photo Nationality  \\\n",
       "0  https://cdn.sofifa.org/players/4/19/158023.png   Argentina   \n",
       "1   https://cdn.sofifa.org/players/4/19/20801.png    Portugal   \n",
       "2  https://cdn.sofifa.org/players/4/19/190871.png      Brazil   \n",
       "3  https://cdn.sofifa.org/players/4/19/193080.png       Spain   \n",
       "4  https://cdn.sofifa.org/players/4/19/192985.png     Belgium   \n",
       "\n",
       "                                  Flag  Overall  Potential  \\\n",
       "0  https://cdn.sofifa.org/flags/52.png       94         94   \n",
       "1  https://cdn.sofifa.org/flags/38.png       94         94   \n",
       "2  https://cdn.sofifa.org/flags/54.png       92         93   \n",
       "3  https://cdn.sofifa.org/flags/45.png       91         93   \n",
       "4   https://cdn.sofifa.org/flags/7.png       91         92   \n",
       "\n",
       "                  Club                                     Club Logo  ...  \\\n",
       "0         FC Barcelona  https://cdn.sofifa.org/teams/2/light/241.png  ...   \n",
       "1             Juventus   https://cdn.sofifa.org/teams/2/light/45.png  ...   \n",
       "2  Paris Saint-Germain   https://cdn.sofifa.org/teams/2/light/73.png  ...   \n",
       "3    Manchester United   https://cdn.sofifa.org/teams/2/light/11.png  ...   \n",
       "4      Manchester City   https://cdn.sofifa.org/teams/2/light/10.png  ...   \n",
       "\n",
       "  Composure Marking  StandingTackle SlidingTackle  GKDiving  GKHandling  \\\n",
       "0      96.0    33.0            28.0          26.0       6.0        11.0   \n",
       "1      95.0    28.0            31.0          23.0       7.0        11.0   \n",
       "2      94.0    27.0            24.0          33.0       9.0         9.0   \n",
       "3      68.0    15.0            21.0          13.0      90.0        85.0   \n",
       "4      88.0    68.0            58.0          51.0      15.0        13.0   \n",
       "\n",
       "   GKKicking GKPositioning GKReflexes Release Clause  \n",
       "0       15.0          14.0        8.0        €226.5M  \n",
       "1       15.0          14.0       11.0        €127.1M  \n",
       "2       15.0          15.0       11.0        €228.1M  \n",
       "3       87.0          88.0       94.0        €138.6M  \n",
       "4        5.0          10.0       13.0        €196.4M  \n",
       "\n",
       "[5 rows x 88 columns]"
      ]
     },
     "execution_count": 7,
     "metadata": {},
     "output_type": "execute_result"
    }
   ],
   "source": [
    "fifa.head()"
   ]
  },
  {
   "cell_type": "code",
   "execution_count": 8,
   "metadata": {},
   "outputs": [
    {
     "name": "stdout",
     "output_type": "stream",
     "text": [
      "<class 'pandas.core.frame.DataFrame'>\n",
      "Int64Index: 18207 entries, 0 to 18206\n",
      "Data columns (total 88 columns):\n",
      " #   Column                    Non-Null Count  Dtype  \n",
      "---  ------                    --------------  -----  \n",
      " 0   ID                        18207 non-null  int64  \n",
      " 1   Name                      18207 non-null  object \n",
      " 2   Age                       18207 non-null  int64  \n",
      " 3   Photo                     18207 non-null  object \n",
      " 4   Nationality               18207 non-null  object \n",
      " 5   Flag                      18207 non-null  object \n",
      " 6   Overall                   18207 non-null  int64  \n",
      " 7   Potential                 18207 non-null  int64  \n",
      " 8   Club                      17966 non-null  object \n",
      " 9   Club Logo                 18207 non-null  object \n",
      " 10  Value                     18207 non-null  object \n",
      " 11  Wage                      18207 non-null  object \n",
      " 12  Special                   18207 non-null  int64  \n",
      " 13  Preferred Foot            18159 non-null  object \n",
      " 14  International Reputation  18159 non-null  float64\n",
      " 15  Weak Foot                 18159 non-null  float64\n",
      " 16  Skill Moves               18159 non-null  float64\n",
      " 17  Work Rate                 18159 non-null  object \n",
      " 18  Body Type                 18159 non-null  object \n",
      " 19  Real Face                 18159 non-null  object \n",
      " 20  Position                  18147 non-null  object \n",
      " 21  Jersey Number             18147 non-null  float64\n",
      " 22  Joined                    16654 non-null  object \n",
      " 23  Loaned From               1264 non-null   object \n",
      " 24  Contract Valid Until      17918 non-null  object \n",
      " 25  Height                    18159 non-null  object \n",
      " 26  Weight                    18159 non-null  object \n",
      " 27  LS                        16122 non-null  object \n",
      " 28  ST                        16122 non-null  object \n",
      " 29  RS                        16122 non-null  object \n",
      " 30  LW                        16122 non-null  object \n",
      " 31  LF                        16122 non-null  object \n",
      " 32  CF                        16122 non-null  object \n",
      " 33  RF                        16122 non-null  object \n",
      " 34  RW                        16122 non-null  object \n",
      " 35  LAM                       16122 non-null  object \n",
      " 36  CAM                       16122 non-null  object \n",
      " 37  RAM                       16122 non-null  object \n",
      " 38  LM                        16122 non-null  object \n",
      " 39  LCM                       16122 non-null  object \n",
      " 40  CM                        16122 non-null  object \n",
      " 41  RCM                       16122 non-null  object \n",
      " 42  RM                        16122 non-null  object \n",
      " 43  LWB                       16122 non-null  object \n",
      " 44  LDM                       16122 non-null  object \n",
      " 45  CDM                       16122 non-null  object \n",
      " 46  RDM                       16122 non-null  object \n",
      " 47  RWB                       16122 non-null  object \n",
      " 48  LB                        16122 non-null  object \n",
      " 49  LCB                       16122 non-null  object \n",
      " 50  CB                        16122 non-null  object \n",
      " 51  RCB                       16122 non-null  object \n",
      " 52  RB                        16122 non-null  object \n",
      " 53  Crossing                  18159 non-null  float64\n",
      " 54  Finishing                 18159 non-null  float64\n",
      " 55  HeadingAccuracy           18159 non-null  float64\n",
      " 56  ShortPassing              18159 non-null  float64\n",
      " 57  Volleys                   18159 non-null  float64\n",
      " 58  Dribbling                 18159 non-null  float64\n",
      " 59  Curve                     18159 non-null  float64\n",
      " 60  FKAccuracy                18159 non-null  float64\n",
      " 61  LongPassing               18159 non-null  float64\n",
      " 62  BallControl               18159 non-null  float64\n",
      " 63  Acceleration              18159 non-null  float64\n",
      " 64  SprintSpeed               18159 non-null  float64\n",
      " 65  Agility                   18159 non-null  float64\n",
      " 66  Reactions                 18159 non-null  float64\n",
      " 67  Balance                   18159 non-null  float64\n",
      " 68  ShotPower                 18159 non-null  float64\n",
      " 69  Jumping                   18159 non-null  float64\n",
      " 70  Stamina                   18159 non-null  float64\n",
      " 71  Strength                  18159 non-null  float64\n",
      " 72  LongShots                 18159 non-null  float64\n",
      " 73  Aggression                18159 non-null  float64\n",
      " 74  Interceptions             18159 non-null  float64\n",
      " 75  Positioning               18159 non-null  float64\n",
      " 76  Vision                    18159 non-null  float64\n",
      " 77  Penalties                 18159 non-null  float64\n",
      " 78  Composure                 18159 non-null  float64\n",
      " 79  Marking                   18159 non-null  float64\n",
      " 80  StandingTackle            18159 non-null  float64\n",
      " 81  SlidingTackle             18159 non-null  float64\n",
      " 82  GKDiving                  18159 non-null  float64\n",
      " 83  GKHandling                18159 non-null  float64\n",
      " 84  GKKicking                 18159 non-null  float64\n",
      " 85  GKPositioning             18159 non-null  float64\n",
      " 86  GKReflexes                18159 non-null  float64\n",
      " 87  Release Clause            16643 non-null  object \n",
      "dtypes: float64(38), int64(5), object(45)\n",
      "memory usage: 12.4+ MB\n"
     ]
    }
   ],
   "source": [
    "fifa.info()"
   ]
  },
  {
   "cell_type": "code",
   "execution_count": 9,
   "metadata": {},
   "outputs": [],
   "source": [
    "fifa_clean=fifa.copy()"
   ]
  },
  {
   "cell_type": "code",
   "execution_count": 10,
   "metadata": {},
   "outputs": [],
   "source": [
    "fifa_clean.drop(['ID','Photo','Flag','Club Logo','Real Face','Jersey Number','Loaned From'],axis=1,inplace=True)"
   ]
  },
  {
   "cell_type": "code",
   "execution_count": 11,
   "metadata": {},
   "outputs": [
    {
     "data": {
      "text/html": [
       "<div>\n",
       "<style scoped>\n",
       "    .dataframe tbody tr th:only-of-type {\n",
       "        vertical-align: middle;\n",
       "    }\n",
       "\n",
       "    .dataframe tbody tr th {\n",
       "        vertical-align: top;\n",
       "    }\n",
       "\n",
       "    .dataframe thead th {\n",
       "        text-align: right;\n",
       "    }\n",
       "</style>\n",
       "<table border=\"1\" class=\"dataframe\">\n",
       "  <thead>\n",
       "    <tr style=\"text-align: right;\">\n",
       "      <th></th>\n",
       "      <th>Name</th>\n",
       "      <th>Age</th>\n",
       "      <th>Nationality</th>\n",
       "      <th>Overall</th>\n",
       "      <th>Potential</th>\n",
       "      <th>Club</th>\n",
       "      <th>Value</th>\n",
       "      <th>Wage</th>\n",
       "      <th>Special</th>\n",
       "      <th>Preferred Foot</th>\n",
       "      <th>...</th>\n",
       "      <th>Composure</th>\n",
       "      <th>Marking</th>\n",
       "      <th>StandingTackle</th>\n",
       "      <th>SlidingTackle</th>\n",
       "      <th>GKDiving</th>\n",
       "      <th>GKHandling</th>\n",
       "      <th>GKKicking</th>\n",
       "      <th>GKPositioning</th>\n",
       "      <th>GKReflexes</th>\n",
       "      <th>Release Clause</th>\n",
       "    </tr>\n",
       "  </thead>\n",
       "  <tbody>\n",
       "    <tr>\n",
       "      <th>0</th>\n",
       "      <td>L. Messi</td>\n",
       "      <td>31</td>\n",
       "      <td>Argentina</td>\n",
       "      <td>94</td>\n",
       "      <td>94</td>\n",
       "      <td>FC Barcelona</td>\n",
       "      <td>€110.5M</td>\n",
       "      <td>€565K</td>\n",
       "      <td>2202</td>\n",
       "      <td>Left</td>\n",
       "      <td>...</td>\n",
       "      <td>96.0</td>\n",
       "      <td>33.0</td>\n",
       "      <td>28.0</td>\n",
       "      <td>26.0</td>\n",
       "      <td>6.0</td>\n",
       "      <td>11.0</td>\n",
       "      <td>15.0</td>\n",
       "      <td>14.0</td>\n",
       "      <td>8.0</td>\n",
       "      <td>€226.5M</td>\n",
       "    </tr>\n",
       "    <tr>\n",
       "      <th>1</th>\n",
       "      <td>Cristiano Ronaldo</td>\n",
       "      <td>33</td>\n",
       "      <td>Portugal</td>\n",
       "      <td>94</td>\n",
       "      <td>94</td>\n",
       "      <td>Juventus</td>\n",
       "      <td>€77M</td>\n",
       "      <td>€405K</td>\n",
       "      <td>2228</td>\n",
       "      <td>Right</td>\n",
       "      <td>...</td>\n",
       "      <td>95.0</td>\n",
       "      <td>28.0</td>\n",
       "      <td>31.0</td>\n",
       "      <td>23.0</td>\n",
       "      <td>7.0</td>\n",
       "      <td>11.0</td>\n",
       "      <td>15.0</td>\n",
       "      <td>14.0</td>\n",
       "      <td>11.0</td>\n",
       "      <td>€127.1M</td>\n",
       "    </tr>\n",
       "    <tr>\n",
       "      <th>2</th>\n",
       "      <td>Neymar Jr</td>\n",
       "      <td>26</td>\n",
       "      <td>Brazil</td>\n",
       "      <td>92</td>\n",
       "      <td>93</td>\n",
       "      <td>Paris Saint-Germain</td>\n",
       "      <td>€118.5M</td>\n",
       "      <td>€290K</td>\n",
       "      <td>2143</td>\n",
       "      <td>Right</td>\n",
       "      <td>...</td>\n",
       "      <td>94.0</td>\n",
       "      <td>27.0</td>\n",
       "      <td>24.0</td>\n",
       "      <td>33.0</td>\n",
       "      <td>9.0</td>\n",
       "      <td>9.0</td>\n",
       "      <td>15.0</td>\n",
       "      <td>15.0</td>\n",
       "      <td>11.0</td>\n",
       "      <td>€228.1M</td>\n",
       "    </tr>\n",
       "    <tr>\n",
       "      <th>3</th>\n",
       "      <td>De Gea</td>\n",
       "      <td>27</td>\n",
       "      <td>Spain</td>\n",
       "      <td>91</td>\n",
       "      <td>93</td>\n",
       "      <td>Manchester United</td>\n",
       "      <td>€72M</td>\n",
       "      <td>€260K</td>\n",
       "      <td>1471</td>\n",
       "      <td>Right</td>\n",
       "      <td>...</td>\n",
       "      <td>68.0</td>\n",
       "      <td>15.0</td>\n",
       "      <td>21.0</td>\n",
       "      <td>13.0</td>\n",
       "      <td>90.0</td>\n",
       "      <td>85.0</td>\n",
       "      <td>87.0</td>\n",
       "      <td>88.0</td>\n",
       "      <td>94.0</td>\n",
       "      <td>€138.6M</td>\n",
       "    </tr>\n",
       "    <tr>\n",
       "      <th>4</th>\n",
       "      <td>K. De Bruyne</td>\n",
       "      <td>27</td>\n",
       "      <td>Belgium</td>\n",
       "      <td>91</td>\n",
       "      <td>92</td>\n",
       "      <td>Manchester City</td>\n",
       "      <td>€102M</td>\n",
       "      <td>€355K</td>\n",
       "      <td>2281</td>\n",
       "      <td>Right</td>\n",
       "      <td>...</td>\n",
       "      <td>88.0</td>\n",
       "      <td>68.0</td>\n",
       "      <td>58.0</td>\n",
       "      <td>51.0</td>\n",
       "      <td>15.0</td>\n",
       "      <td>13.0</td>\n",
       "      <td>5.0</td>\n",
       "      <td>10.0</td>\n",
       "      <td>13.0</td>\n",
       "      <td>€196.4M</td>\n",
       "    </tr>\n",
       "  </tbody>\n",
       "</table>\n",
       "<p>5 rows × 81 columns</p>\n",
       "</div>"
      ],
      "text/plain": [
       "                Name  Age Nationality  Overall  Potential  \\\n",
       "0           L. Messi   31   Argentina       94         94   \n",
       "1  Cristiano Ronaldo   33    Portugal       94         94   \n",
       "2          Neymar Jr   26      Brazil       92         93   \n",
       "3             De Gea   27       Spain       91         93   \n",
       "4       K. De Bruyne   27     Belgium       91         92   \n",
       "\n",
       "                  Club    Value   Wage  Special Preferred Foot  ...  \\\n",
       "0         FC Barcelona  €110.5M  €565K     2202           Left  ...   \n",
       "1             Juventus     €77M  €405K     2228          Right  ...   \n",
       "2  Paris Saint-Germain  €118.5M  €290K     2143          Right  ...   \n",
       "3    Manchester United     €72M  €260K     1471          Right  ...   \n",
       "4      Manchester City    €102M  €355K     2281          Right  ...   \n",
       "\n",
       "   Composure  Marking  StandingTackle SlidingTackle GKDiving GKHandling  \\\n",
       "0       96.0     33.0            28.0          26.0      6.0       11.0   \n",
       "1       95.0     28.0            31.0          23.0      7.0       11.0   \n",
       "2       94.0     27.0            24.0          33.0      9.0        9.0   \n",
       "3       68.0     15.0            21.0          13.0     90.0       85.0   \n",
       "4       88.0     68.0            58.0          51.0     15.0       13.0   \n",
       "\n",
       "  GKKicking GKPositioning GKReflexes Release Clause  \n",
       "0      15.0          14.0        8.0        €226.5M  \n",
       "1      15.0          14.0       11.0        €127.1M  \n",
       "2      15.0          15.0       11.0        €228.1M  \n",
       "3      87.0          88.0       94.0        €138.6M  \n",
       "4       5.0          10.0       13.0        €196.4M  \n",
       "\n",
       "[5 rows x 81 columns]"
      ]
     },
     "execution_count": 11,
     "metadata": {},
     "output_type": "execute_result"
    }
   ],
   "source": [
    "fifa_clean.head()"
   ]
  },
  {
   "cell_type": "code",
   "execution_count": 12,
   "metadata": {},
   "outputs": [
    {
     "name": "stdout",
     "output_type": "stream",
     "text": [
      "<class 'pandas.core.frame.DataFrame'>\n",
      "Int64Index: 18207 entries, 0 to 18206\n",
      "Data columns (total 81 columns):\n",
      " #   Column                    Non-Null Count  Dtype  \n",
      "---  ------                    --------------  -----  \n",
      " 0   Name                      18207 non-null  object \n",
      " 1   Age                       18207 non-null  int64  \n",
      " 2   Nationality               18207 non-null  object \n",
      " 3   Overall                   18207 non-null  int64  \n",
      " 4   Potential                 18207 non-null  int64  \n",
      " 5   Club                      17966 non-null  object \n",
      " 6   Value                     18207 non-null  object \n",
      " 7   Wage                      18207 non-null  object \n",
      " 8   Special                   18207 non-null  int64  \n",
      " 9   Preferred Foot            18159 non-null  object \n",
      " 10  International Reputation  18159 non-null  float64\n",
      " 11  Weak Foot                 18159 non-null  float64\n",
      " 12  Skill Moves               18159 non-null  float64\n",
      " 13  Work Rate                 18159 non-null  object \n",
      " 14  Body Type                 18159 non-null  object \n",
      " 15  Position                  18147 non-null  object \n",
      " 16  Joined                    16654 non-null  object \n",
      " 17  Contract Valid Until      17918 non-null  object \n",
      " 18  Height                    18159 non-null  object \n",
      " 19  Weight                    18159 non-null  object \n",
      " 20  LS                        16122 non-null  object \n",
      " 21  ST                        16122 non-null  object \n",
      " 22  RS                        16122 non-null  object \n",
      " 23  LW                        16122 non-null  object \n",
      " 24  LF                        16122 non-null  object \n",
      " 25  CF                        16122 non-null  object \n",
      " 26  RF                        16122 non-null  object \n",
      " 27  RW                        16122 non-null  object \n",
      " 28  LAM                       16122 non-null  object \n",
      " 29  CAM                       16122 non-null  object \n",
      " 30  RAM                       16122 non-null  object \n",
      " 31  LM                        16122 non-null  object \n",
      " 32  LCM                       16122 non-null  object \n",
      " 33  CM                        16122 non-null  object \n",
      " 34  RCM                       16122 non-null  object \n",
      " 35  RM                        16122 non-null  object \n",
      " 36  LWB                       16122 non-null  object \n",
      " 37  LDM                       16122 non-null  object \n",
      " 38  CDM                       16122 non-null  object \n",
      " 39  RDM                       16122 non-null  object \n",
      " 40  RWB                       16122 non-null  object \n",
      " 41  LB                        16122 non-null  object \n",
      " 42  LCB                       16122 non-null  object \n",
      " 43  CB                        16122 non-null  object \n",
      " 44  RCB                       16122 non-null  object \n",
      " 45  RB                        16122 non-null  object \n",
      " 46  Crossing                  18159 non-null  float64\n",
      " 47  Finishing                 18159 non-null  float64\n",
      " 48  HeadingAccuracy           18159 non-null  float64\n",
      " 49  ShortPassing              18159 non-null  float64\n",
      " 50  Volleys                   18159 non-null  float64\n",
      " 51  Dribbling                 18159 non-null  float64\n",
      " 52  Curve                     18159 non-null  float64\n",
      " 53  FKAccuracy                18159 non-null  float64\n",
      " 54  LongPassing               18159 non-null  float64\n",
      " 55  BallControl               18159 non-null  float64\n",
      " 56  Acceleration              18159 non-null  float64\n",
      " 57  SprintSpeed               18159 non-null  float64\n",
      " 58  Agility                   18159 non-null  float64\n",
      " 59  Reactions                 18159 non-null  float64\n",
      " 60  Balance                   18159 non-null  float64\n",
      " 61  ShotPower                 18159 non-null  float64\n",
      " 62  Jumping                   18159 non-null  float64\n",
      " 63  Stamina                   18159 non-null  float64\n",
      " 64  Strength                  18159 non-null  float64\n",
      " 65  LongShots                 18159 non-null  float64\n",
      " 66  Aggression                18159 non-null  float64\n",
      " 67  Interceptions             18159 non-null  float64\n",
      " 68  Positioning               18159 non-null  float64\n",
      " 69  Vision                    18159 non-null  float64\n",
      " 70  Penalties                 18159 non-null  float64\n",
      " 71  Composure                 18159 non-null  float64\n",
      " 72  Marking                   18159 non-null  float64\n",
      " 73  StandingTackle            18159 non-null  float64\n",
      " 74  SlidingTackle             18159 non-null  float64\n",
      " 75  GKDiving                  18159 non-null  float64\n",
      " 76  GKHandling                18159 non-null  float64\n",
      " 77  GKKicking                 18159 non-null  float64\n",
      " 78  GKPositioning             18159 non-null  float64\n",
      " 79  GKReflexes                18159 non-null  float64\n",
      " 80  Release Clause            16643 non-null  object \n",
      "dtypes: float64(37), int64(4), object(40)\n",
      "memory usage: 11.4+ MB\n"
     ]
    }
   ],
   "source": [
    "fifa_clean.info()"
   ]
  },
  {
   "cell_type": "code",
   "execution_count": 13,
   "metadata": {},
   "outputs": [],
   "source": [
    "fifa_clean['International Reputation'].fillna(fifa_clean['International Reputation'].mean(),inplace=True)\n",
    "fifa_clean['Weak Foot'].fillna(fifa_clean['Weak Foot'].mean(),inplace=True)\n",
    "fifa_clean['Skill Moves'].fillna(fifa_clean['Skill Moves'].mean(),inplace=True)\n",
    "fifa_clean['Crossing'].fillna(fifa_clean['Crossing'].mean(),inplace=True)\n",
    "fifa_clean['Finishing'].fillna(fifa_clean['Finishing'].mean(),inplace=True)\n",
    "fifa_clean['HeadingAccuracy'].fillna(fifa_clean['HeadingAccuracy'].mean(),inplace=True)\n",
    "fifa_clean['ShortPassing'].fillna(fifa_clean['ShortPassing'].mean(),inplace=True)\n",
    "fifa_clean['Volleys'].fillna(fifa_clean['Volleys'].mean(),inplace=True)\n",
    "fifa_clean['Dribbling'].fillna(fifa_clean['Dribbling'].mean(),inplace=True)\n",
    "fifa_clean['Curve'].fillna(fifa_clean['Curve'].mean(),inplace=True)\n",
    "fifa_clean['FKAccuracy'].fillna(fifa_clean['FKAccuracy'].mean(),inplace=True)\n",
    "fifa_clean['LongPassing'].fillna(fifa_clean['LongPassing'].mean(),inplace=True)\n",
    "fifa_clean['BallControl'].fillna(fifa_clean['BallControl'].mean(),inplace=True)\n",
    "fifa_clean['Acceleration'].fillna(fifa_clean['Acceleration'].mean(),inplace=True)\n",
    "fifa_clean['SprintSpeed'].fillna(fifa_clean['SprintSpeed'].mean(),inplace=True)\n",
    "fifa_clean['Agility'].fillna(fifa_clean['Agility'].mean(),inplace=True)\n",
    "fifa_clean['Reactions'].fillna(fifa_clean['Reactions'].mean(),inplace=True)\n",
    "fifa_clean['Balance'].fillna(fifa_clean['Balance'].mean(),inplace=True)\n",
    "fifa_clean['ShotPower'].fillna(fifa_clean['ShotPower'].mean(),inplace=True)\n",
    "fifa_clean['Jumping'].fillna(fifa_clean['Jumping'].mean(),inplace=True)\n",
    "fifa_clean['Stamina'].fillna(fifa_clean['Stamina'].mean(),inplace=True)\n",
    "fifa_clean['LongShots'].fillna(fifa_clean['LongShots'].mean(),inplace=True)\n",
    "fifa_clean['Aggression'].fillna(fifa_clean['Aggression'].mean(),inplace=True)\n",
    "fifa_clean['Interceptions'].fillna(fifa_clean['Interceptions'].mean(),inplace=True)\n",
    "fifa_clean['Positioning'].fillna(fifa_clean['Positioning'].mean(),inplace=True)\n",
    "fifa_clean['Vision'].fillna(fifa_clean['Vision'].mean(),inplace=True)\n",
    "fifa_clean['Penalties'].fillna(fifa_clean['Penalties'].mean(),inplace=True)\n",
    "fifa_clean['Composure'].fillna(fifa_clean['Composure'].mean(),inplace=True)\n",
    "fifa_clean['Marking'].fillna(fifa_clean['Marking'].mean(),inplace=True)\n",
    "fifa_clean['StandingTackle'].fillna(fifa_clean['StandingTackle'].mean(),inplace=True)\n",
    "fifa_clean['SlidingTackle'].fillna(fifa_clean['SlidingTackle'].mean(),inplace=True)\n",
    "fifa_clean['GKDiving'].fillna(fifa_clean['GKDiving'].mean(),inplace=True)\n",
    "fifa_clean['GKHandling'].fillna(fifa_clean['GKHandling'].mean(),inplace=True)\n",
    "fifa_clean['GKKicking'].fillna(fifa_clean['GKKicking'].mean(),inplace=True)\n",
    "fifa_clean['GKReflexes'].fillna(fifa_clean['GKReflexes'].mean(),inplace=True)\n",
    "fifa_clean['GKPositioning'].fillna(fifa_clean['GKPositioning'].mean(),inplace=True)\n",
    "fifa_clean['Strength'].fillna(fifa_clean['Strength'].mean(),inplace=True)"
   ]
  },
  {
   "cell_type": "code",
   "execution_count": 14,
   "metadata": {},
   "outputs": [
    {
     "name": "stdout",
     "output_type": "stream",
     "text": [
      "<class 'pandas.core.frame.DataFrame'>\n",
      "Int64Index: 18207 entries, 0 to 18206\n",
      "Data columns (total 81 columns):\n",
      " #   Column                    Non-Null Count  Dtype  \n",
      "---  ------                    --------------  -----  \n",
      " 0   Name                      18207 non-null  object \n",
      " 1   Age                       18207 non-null  int64  \n",
      " 2   Nationality               18207 non-null  object \n",
      " 3   Overall                   18207 non-null  int64  \n",
      " 4   Potential                 18207 non-null  int64  \n",
      " 5   Club                      17966 non-null  object \n",
      " 6   Value                     18207 non-null  object \n",
      " 7   Wage                      18207 non-null  object \n",
      " 8   Special                   18207 non-null  int64  \n",
      " 9   Preferred Foot            18159 non-null  object \n",
      " 10  International Reputation  18207 non-null  float64\n",
      " 11  Weak Foot                 18207 non-null  float64\n",
      " 12  Skill Moves               18207 non-null  float64\n",
      " 13  Work Rate                 18159 non-null  object \n",
      " 14  Body Type                 18159 non-null  object \n",
      " 15  Position                  18147 non-null  object \n",
      " 16  Joined                    16654 non-null  object \n",
      " 17  Contract Valid Until      17918 non-null  object \n",
      " 18  Height                    18159 non-null  object \n",
      " 19  Weight                    18159 non-null  object \n",
      " 20  LS                        16122 non-null  object \n",
      " 21  ST                        16122 non-null  object \n",
      " 22  RS                        16122 non-null  object \n",
      " 23  LW                        16122 non-null  object \n",
      " 24  LF                        16122 non-null  object \n",
      " 25  CF                        16122 non-null  object \n",
      " 26  RF                        16122 non-null  object \n",
      " 27  RW                        16122 non-null  object \n",
      " 28  LAM                       16122 non-null  object \n",
      " 29  CAM                       16122 non-null  object \n",
      " 30  RAM                       16122 non-null  object \n",
      " 31  LM                        16122 non-null  object \n",
      " 32  LCM                       16122 non-null  object \n",
      " 33  CM                        16122 non-null  object \n",
      " 34  RCM                       16122 non-null  object \n",
      " 35  RM                        16122 non-null  object \n",
      " 36  LWB                       16122 non-null  object \n",
      " 37  LDM                       16122 non-null  object \n",
      " 38  CDM                       16122 non-null  object \n",
      " 39  RDM                       16122 non-null  object \n",
      " 40  RWB                       16122 non-null  object \n",
      " 41  LB                        16122 non-null  object \n",
      " 42  LCB                       16122 non-null  object \n",
      " 43  CB                        16122 non-null  object \n",
      " 44  RCB                       16122 non-null  object \n",
      " 45  RB                        16122 non-null  object \n",
      " 46  Crossing                  18207 non-null  float64\n",
      " 47  Finishing                 18207 non-null  float64\n",
      " 48  HeadingAccuracy           18207 non-null  float64\n",
      " 49  ShortPassing              18207 non-null  float64\n",
      " 50  Volleys                   18207 non-null  float64\n",
      " 51  Dribbling                 18207 non-null  float64\n",
      " 52  Curve                     18207 non-null  float64\n",
      " 53  FKAccuracy                18207 non-null  float64\n",
      " 54  LongPassing               18207 non-null  float64\n",
      " 55  BallControl               18207 non-null  float64\n",
      " 56  Acceleration              18207 non-null  float64\n",
      " 57  SprintSpeed               18207 non-null  float64\n",
      " 58  Agility                   18207 non-null  float64\n",
      " 59  Reactions                 18207 non-null  float64\n",
      " 60  Balance                   18207 non-null  float64\n",
      " 61  ShotPower                 18207 non-null  float64\n",
      " 62  Jumping                   18207 non-null  float64\n",
      " 63  Stamina                   18207 non-null  float64\n",
      " 64  Strength                  18207 non-null  float64\n",
      " 65  LongShots                 18207 non-null  float64\n",
      " 66  Aggression                18207 non-null  float64\n",
      " 67  Interceptions             18207 non-null  float64\n",
      " 68  Positioning               18207 non-null  float64\n",
      " 69  Vision                    18207 non-null  float64\n",
      " 70  Penalties                 18207 non-null  float64\n",
      " 71  Composure                 18207 non-null  float64\n",
      " 72  Marking                   18207 non-null  float64\n",
      " 73  StandingTackle            18207 non-null  float64\n",
      " 74  SlidingTackle             18207 non-null  float64\n",
      " 75  GKDiving                  18207 non-null  float64\n",
      " 76  GKHandling                18207 non-null  float64\n",
      " 77  GKKicking                 18207 non-null  float64\n",
      " 78  GKPositioning             18207 non-null  float64\n",
      " 79  GKReflexes                18207 non-null  float64\n",
      " 80  Release Clause            16643 non-null  object \n",
      "dtypes: float64(37), int64(4), object(40)\n",
      "memory usage: 11.4+ MB\n"
     ]
    }
   ],
   "source": [
    "fifa_clean.info()"
   ]
  },
  {
   "cell_type": "code",
   "execution_count": 188,
   "metadata": {},
   "outputs": [
    {
     "data": {
      "text/plain": [
       "(18207, 88)"
      ]
     },
     "execution_count": 188,
     "metadata": {},
     "output_type": "execute_result"
    }
   ],
   "source": [
    "fifa.shape"
   ]
  },
  {
   "cell_type": "code",
   "execution_count": 189,
   "metadata": {},
   "outputs": [
    {
     "data": {
      "text/plain": [
       "(18207, 88)"
      ]
     },
     "execution_count": 189,
     "metadata": {},
     "output_type": "execute_result"
    }
   ],
   "source": [
    "fifa.dropna(how='all').shape"
   ]
  },
  {
   "cell_type": "code",
   "execution_count": 190,
   "metadata": {},
   "outputs": [
    {
     "data": {
      "text/plain": [
       "Right    13948\n",
       "Left      4211\n",
       "Name: Preferred Foot, dtype: int64"
      ]
     },
     "execution_count": 190,
     "metadata": {},
     "output_type": "execute_result"
    }
   ],
   "source": [
    "fifa['Preferred Foot'].value_counts()"
   ]
  },
  {
   "cell_type": "code",
   "execution_count": 191,
   "metadata": {},
   "outputs": [
    {
     "data": {
      "text/plain": [
       "Right    13948\n",
       "Left      4211\n",
       "NaN         48\n",
       "Name: Preferred Foot, dtype: int64"
      ]
     },
     "execution_count": 191,
     "metadata": {},
     "output_type": "execute_result"
    }
   ],
   "source": [
    "fifa['Preferred Foot'].value_counts(dropna=False)"
   ]
  },
  {
   "cell_type": "code",
   "execution_count": 192,
   "metadata": {},
   "outputs": [],
   "source": [
    "fifa_clean['Preferred Foot'].fillna(value='Right',inplace=True)"
   ]
  },
  {
   "cell_type": "code",
   "execution_count": 193,
   "metadata": {},
   "outputs": [
    {
     "data": {
      "text/plain": [
       "Right    13996\n",
       "Left      4211\n",
       "Name: Preferred Foot, dtype: int64"
      ]
     },
     "execution_count": 193,
     "metadata": {},
     "output_type": "execute_result"
    }
   ],
   "source": [
    "fifa_clean['Preferred Foot'].value_counts(dropna=False)"
   ]
  },
  {
   "cell_type": "code",
   "execution_count": 194,
   "metadata": {},
   "outputs": [
    {
     "data": {
      "text/plain": [
       "Normal                 10595\n",
       "Lean                    6417\n",
       "Stocky                  1140\n",
       "NaN                       48\n",
       "Shaqiri                    1\n",
       "Courtois                   1\n",
       "PLAYER_BODY_TYPE_25        1\n",
       "Messi                      1\n",
       "Akinfenwa                  1\n",
       "C. Ronaldo                 1\n",
       "Neymar                     1\n",
       "Name: Body Type, dtype: int64"
      ]
     },
     "execution_count": 194,
     "metadata": {},
     "output_type": "execute_result"
    }
   ],
   "source": [
    "fifa['Body Type'].value_counts(dropna=False)"
   ]
  },
  {
   "cell_type": "code",
   "execution_count": 195,
   "metadata": {},
   "outputs": [],
   "source": [
    "fifa_clean['Body Type']=fifa_clean['Body Type'].str.replace('Messi','Lean')\n",
    "fifa_clean['Body Type']=fifa_clean['Body Type'].str.replace('Neymar','Normal')\n",
    "fifa_clean['Body Type']=fifa_clean['Body Type'].str.replace('Courtois','Normal')\n",
    "fifa_clean['Body Type']=fifa_clean['Body Type'].str.replace('C. Ronaldo','Lean')\n",
    "fifa_clean['Body Type']=fifa_clean['Body Type'].str.replace('PLAYER_BODY_TYPE_25','Stocky')\n",
    "fifa_clean['Body Type']=fifa_clean['Body Type'].str.replace('Akinfenwa','Stocky')\n",
    "fifa_clean['Body Type']=fifa_clean['Body Type'].str.replace('Shaqiri','Stocky')"
   ]
  },
  {
   "cell_type": "code",
   "execution_count": 196,
   "metadata": {},
   "outputs": [],
   "source": [
    "fifa_clean['Body Type'].fillna(value='Normal',inplace=True)"
   ]
  },
  {
   "cell_type": "code",
   "execution_count": 197,
   "metadata": {},
   "outputs": [
    {
     "data": {
      "text/plain": [
       "Normal    10645\n",
       "Lean       6419\n",
       "Stocky     1143\n",
       "Name: Body Type, dtype: int64"
      ]
     },
     "execution_count": 197,
     "metadata": {},
     "output_type": "execute_result"
    }
   ],
   "source": [
    "fifa_clean['Body Type'].value_counts(dropna=False)"
   ]
  },
  {
   "cell_type": "code",
   "execution_count": 198,
   "metadata": {},
   "outputs": [],
   "source": [
    "fifa_clean['Club'].fillna('No club',inplace=True)\n",
    "fifa_clean['Position'].fillna('unknown',inplace=True)"
   ]
  },
  {
   "cell_type": "code",
   "execution_count": 199,
   "metadata": {},
   "outputs": [
    {
     "data": {
      "text/plain": [
       "0"
      ]
     },
     "execution_count": 199,
     "metadata": {},
     "output_type": "execute_result"
    }
   ],
   "source": [
    "fifa_clean['Club'].isnull().sum()"
   ]
  },
  {
   "cell_type": "code",
   "execution_count": 200,
   "metadata": {},
   "outputs": [
    {
     "data": {
      "text/plain": [
       "0"
      ]
     },
     "execution_count": 200,
     "metadata": {},
     "output_type": "execute_result"
    }
   ],
   "source": [
    "fifa_clean['Position'].isnull().sum()"
   ]
  },
  {
   "cell_type": "code",
   "execution_count": 201,
   "metadata": {},
   "outputs": [],
   "source": [
    "import datetime \n",
    "fifa_clean['Contract Valid Until']=pd.to_datetime(fifa_clean['Contract Valid Until'])\n",
    "fifa_clean['year']=pd.DatetimeIndex(fifa_clean['Contract Valid Until']).year.astype(str)\n",
    "fifa_clean['Contract Valid Until'].fillna('not available',inplace=True)"
   ]
  },
  {
   "cell_type": "code",
   "execution_count": 202,
   "metadata": {},
   "outputs": [
    {
     "data": {
      "text/plain": [
       "16849    2021-01-01 00:00:00\n",
       "9612     2021-01-01 00:00:00\n",
       "9596     2022-01-01 00:00:00\n",
       "1703     2019-06-30 00:00:00\n",
       "10642    2022-01-01 00:00:00\n",
       "9384     2021-01-01 00:00:00\n",
       "8393     2018-01-01 00:00:00\n",
       "14238    2018-01-01 00:00:00\n",
       "18188    2021-01-01 00:00:00\n",
       "7191     2019-01-01 00:00:00\n",
       "Name: Contract Valid Until, dtype: object"
      ]
     },
     "execution_count": 202,
     "metadata": {},
     "output_type": "execute_result"
    }
   ],
   "source": [
    "fifa_clean['Contract Valid Until'].sample(10)"
   ]
  },
  {
   "cell_type": "code",
   "execution_count": 203,
   "metadata": {},
   "outputs": [],
   "source": [
    "fifa_clean['Work Rate'].fillna('Medium/ Medium',inplace=True)"
   ]
  },
  {
   "cell_type": "code",
   "execution_count": 204,
   "metadata": {},
   "outputs": [
    {
     "data": {
      "text/plain": [
       "0"
      ]
     },
     "execution_count": 204,
     "metadata": {},
     "output_type": "execute_result"
    }
   ],
   "source": [
    "fifa_clean['Work Rate'].isnull().sum()"
   ]
  },
  {
   "cell_type": "code",
   "execution_count": 205,
   "metadata": {},
   "outputs": [],
   "source": [
    "def value_wage_transformation (value):\n",
    "   if isinstance(value,str):\n",
    "    output=value.replace('€','')\n",
    "    if 'K'in output:\n",
    "        output=float(output.replace('K',''))*1000\n",
    "    elif 'M'in output:\n",
    "        output=float(output.replace('M',''))*1000000\n",
    "    return float(output)\n",
    "\n",
    "fifa_clean['Value']=fifa_clean['Value'].apply(lambda x: value_wage_transformation(x))\n",
    "fifa_clean['Wage']=fifa_clean['Wage'].apply(lambda x: value_wage_transformation(x))\n",
    "fifa_clean['Release Clause']=fifa_clean['Release Clause'].apply(lambda x: value_wage_transformation(x))\n",
    "fifa_clean['Release Clause'].fillna(fifa_clean['Release Clause'].mean(),inplace=True)"
   ]
  },
  {
   "cell_type": "code",
   "execution_count": 206,
   "metadata": {},
   "outputs": [
    {
     "data": {
      "text/plain": [
       "3641      2700000.0\n",
       "6066       975000.0\n",
       "524       9000000.0\n",
       "12318      400000.0\n",
       "11328      475000.0\n",
       "9455       675000.0\n",
       "5009      1300000.0\n",
       "1319      9500000.0\n",
       "5493      1500000.0\n",
       "5363      1900000.0\n",
       "16266      140000.0\n",
       "15238      230000.0\n",
       "8406       625000.0\n",
       "365      17500000.0\n",
       "6447       775000.0\n",
       "Name: Value, dtype: float64"
      ]
     },
     "execution_count": 206,
     "metadata": {},
     "output_type": "execute_result"
    }
   ],
   "source": [
    "fifa_clean['Value'].sample(15)"
   ]
  },
  {
   "cell_type": "code",
   "execution_count": 207,
   "metadata": {},
   "outputs": [
    {
     "data": {
      "text/plain": [
       "9330      5000.0\n",
       "13189     2000.0\n",
       "5706      6000.0\n",
       "986       1000.0\n",
       "280      67000.0\n",
       "11837     2000.0\n",
       "4206      5000.0\n",
       "3590      4000.0\n",
       "13020     3000.0\n",
       "14836     2000.0\n",
       "16413     1000.0\n",
       "14235     1000.0\n",
       "18196     1000.0\n",
       "7884      5000.0\n",
       "857      31000.0\n",
       "Name: Wage, dtype: float64"
      ]
     },
     "execution_count": 207,
     "metadata": {},
     "output_type": "execute_result"
    }
   ],
   "source": [
    "fifa_clean['Wage'].sample(15)"
   ]
  },
  {
   "cell_type": "code",
   "execution_count": 208,
   "metadata": {},
   "outputs": [
    {
     "data": {
      "text/plain": [
       "0    226500000.0\n",
       "1    127100000.0\n",
       "2    228100000.0\n",
       "3    138600000.0\n",
       "4    196400000.0\n",
       "Name: Release Clause, dtype: float64"
      ]
     },
     "execution_count": 208,
     "metadata": {},
     "output_type": "execute_result"
    }
   ],
   "source": [
    "fifa_clean['Release Clause'].head()"
   ]
  },
  {
   "cell_type": "code",
   "execution_count": 209,
   "metadata": {},
   "outputs": [],
   "source": [
    "def clean_date(x):\n",
    "    A=[]\n",
    "    if isinstance(x,str):\n",
    "        A=x.split(\", \")\n",
    "        x=A[-1]\n",
    "    return(x)\n",
    "\n",
    "fifa_clean['Joined']=fifa_clean['Joined'].replace(np.nan,0)\n",
    "fifa_clean['Joined']=fifa_clean['Joined'].apply(clean_date).astype(str)"
   ]
  },
  {
   "cell_type": "code",
   "execution_count": 210,
   "metadata": {},
   "outputs": [
    {
     "data": {
      "text/plain": [
       "0    2004\n",
       "1    2018\n",
       "2    2017\n",
       "3    2011\n",
       "4    2015\n",
       "Name: Joined, dtype: object"
      ]
     },
     "execution_count": 210,
     "metadata": {},
     "output_type": "execute_result"
    }
   ],
   "source": [
    "fifa_clean['Joined'].head()"
   ]
  },
  {
   "cell_type": "code",
   "execution_count": 211,
   "metadata": {},
   "outputs": [],
   "source": [
    "def clean_wight(y):\n",
    "    if isinstance(y,str):\n",
    "        return(y.replace('lbs',''))\n",
    "    return(y)\n",
    "fifa_clean['Weight']=fifa_clean['Weight'].apply(clean_wight).astype(float)\n",
    "fifa_clean['Weight'].fillna(fifa_clean['Weight'].mean(),inplace=True)"
   ]
  },
  {
   "cell_type": "code",
   "execution_count": 212,
   "metadata": {},
   "outputs": [
    {
     "data": {
      "text/plain": [
       "0    159.0\n",
       "1    183.0\n",
       "2    150.0\n",
       "3    168.0\n",
       "4    154.0\n",
       "Name: Weight, dtype: float64"
      ]
     },
     "execution_count": 212,
     "metadata": {},
     "output_type": "execute_result"
    }
   ],
   "source": [
    "fifa_clean['Weight'].head()"
   ]
  },
  {
   "cell_type": "code",
   "execution_count": 213,
   "metadata": {},
   "outputs": [],
   "source": [
    "def skills(s):\n",
    "    if isinstance(s,str):\n",
    "        s1=s[0:2]\n",
    "        s2=s[-1]\n",
    "        s=int(s1)+int(s2)\n",
    "        return(s)\n",
    "    else:\n",
    "        return(s)\n",
    "\n",
    "skill_cloumns=['LS','ST','RS','LW','LF','CF','RF','RW','LAM','CAM','RAM','LM','LCM','CM','RCM','RM','LWB','LDM','CDM',\n",
    "               'RDM','RWB','LB','LCB','CB','RCB','RB']\n",
    "for col in skill_cloumns:\n",
    "    fifa_clean[col]=fifa_clean[col].apply(skills)\n",
    "    fifa_clean[col].fillna(0.0,inplace=True)"
   ]
  },
  {
   "cell_type": "code",
   "execution_count": 214,
   "metadata": {},
   "outputs": [
    {
     "data": {
      "text/plain": [
       "2714     69.0\n",
       "2814     64.0\n",
       "11962    48.0\n",
       "1870      0.0\n",
       "112      79.0\n",
       "12293    61.0\n",
       "9907      0.0\n",
       "4365     69.0\n",
       "11461    55.0\n",
       "4279     65.0\n",
       "Name: LS, dtype: float64"
      ]
     },
     "execution_count": 214,
     "metadata": {},
     "output_type": "execute_result"
    }
   ],
   "source": [
    "fifa_clean['LS'].sample(10)"
   ]
  },
  {
   "cell_type": "code",
   "execution_count": 215,
   "metadata": {},
   "outputs": [
    {
     "name": "stdout",
     "output_type": "stream",
     "text": [
      "<class 'pandas.core.frame.DataFrame'>\n",
      "Int64Index: 18207 entries, 0 to 18206\n",
      "Data columns (total 82 columns):\n",
      " #   Column                    Non-Null Count  Dtype  \n",
      "---  ------                    --------------  -----  \n",
      " 0   Name                      18207 non-null  object \n",
      " 1   Age                       18207 non-null  int64  \n",
      " 2   Nationality               18207 non-null  object \n",
      " 3   Overall                   18207 non-null  int64  \n",
      " 4   Potential                 18207 non-null  int64  \n",
      " 5   Club                      18207 non-null  object \n",
      " 6   Value                     18207 non-null  float64\n",
      " 7   Wage                      18207 non-null  float64\n",
      " 8   Special                   18207 non-null  int64  \n",
      " 9   Preferred Foot            18207 non-null  object \n",
      " 10  International Reputation  18207 non-null  float64\n",
      " 11  Weak Foot                 18207 non-null  float64\n",
      " 12  Skill Moves               18207 non-null  float64\n",
      " 13  Work Rate                 18207 non-null  object \n",
      " 14  Body Type                 18207 non-null  object \n",
      " 15  Position                  18207 non-null  object \n",
      " 16  Joined                    18207 non-null  object \n",
      " 17  Contract Valid Until      18207 non-null  object \n",
      " 18  Height                    18159 non-null  object \n",
      " 19  Weight                    18207 non-null  float64\n",
      " 20  LS                        18207 non-null  float64\n",
      " 21  ST                        18207 non-null  float64\n",
      " 22  RS                        18207 non-null  float64\n",
      " 23  LW                        18207 non-null  float64\n",
      " 24  LF                        18207 non-null  float64\n",
      " 25  CF                        18207 non-null  float64\n",
      " 26  RF                        18207 non-null  float64\n",
      " 27  RW                        18207 non-null  float64\n",
      " 28  LAM                       18207 non-null  float64\n",
      " 29  CAM                       18207 non-null  float64\n",
      " 30  RAM                       18207 non-null  float64\n",
      " 31  LM                        18207 non-null  float64\n",
      " 32  LCM                       18207 non-null  float64\n",
      " 33  CM                        18207 non-null  float64\n",
      " 34  RCM                       18207 non-null  float64\n",
      " 35  RM                        18207 non-null  float64\n",
      " 36  LWB                       18207 non-null  float64\n",
      " 37  LDM                       18207 non-null  float64\n",
      " 38  CDM                       18207 non-null  float64\n",
      " 39  RDM                       18207 non-null  float64\n",
      " 40  RWB                       18207 non-null  float64\n",
      " 41  LB                        18207 non-null  float64\n",
      " 42  LCB                       18207 non-null  float64\n",
      " 43  CB                        18207 non-null  float64\n",
      " 44  RCB                       18207 non-null  float64\n",
      " 45  RB                        18207 non-null  float64\n",
      " 46  Crossing                  18207 non-null  float64\n",
      " 47  Finishing                 18207 non-null  float64\n",
      " 48  HeadingAccuracy           18207 non-null  float64\n",
      " 49  ShortPassing              18207 non-null  float64\n",
      " 50  Volleys                   18207 non-null  float64\n",
      " 51  Dribbling                 18207 non-null  float64\n",
      " 52  Curve                     18207 non-null  float64\n",
      " 53  FKAccuracy                18207 non-null  float64\n",
      " 54  LongPassing               18207 non-null  float64\n",
      " 55  BallControl               18207 non-null  float64\n",
      " 56  Acceleration              18207 non-null  float64\n",
      " 57  SprintSpeed               18207 non-null  float64\n",
      " 58  Agility                   18207 non-null  float64\n",
      " 59  Reactions                 18207 non-null  float64\n",
      " 60  Balance                   18207 non-null  float64\n",
      " 61  ShotPower                 18207 non-null  float64\n",
      " 62  Jumping                   18207 non-null  float64\n",
      " 63  Stamina                   18207 non-null  float64\n",
      " 64  Strength                  18207 non-null  float64\n",
      " 65  LongShots                 18207 non-null  float64\n",
      " 66  Aggression                18207 non-null  float64\n",
      " 67  Interceptions             18207 non-null  float64\n",
      " 68  Positioning               18207 non-null  float64\n",
      " 69  Vision                    18207 non-null  float64\n",
      " 70  Penalties                 18207 non-null  float64\n",
      " 71  Composure                 18207 non-null  float64\n",
      " 72  Marking                   18207 non-null  float64\n",
      " 73  StandingTackle            18207 non-null  float64\n",
      " 74  SlidingTackle             18207 non-null  float64\n",
      " 75  GKDiving                  18207 non-null  float64\n",
      " 76  GKHandling                18207 non-null  float64\n",
      " 77  GKKicking                 18207 non-null  float64\n",
      " 78  GKPositioning             18207 non-null  float64\n",
      " 79  GKReflexes                18207 non-null  float64\n",
      " 80  Release Clause            18207 non-null  float64\n",
      " 81  year                      18207 non-null  object \n",
      "dtypes: float64(67), int64(4), object(11)\n",
      "memory usage: 11.5+ MB\n"
     ]
    }
   ],
   "source": [
    "fifa_clean.info()"
   ]
  },
  {
   "cell_type": "code",
   "execution_count": 216,
   "metadata": {},
   "outputs": [
    {
     "data": {
      "text/plain": [
       "6'0     2881\n",
       "5'10    2479\n",
       "5'9     2238\n",
       "5'11    2159\n",
       "6'2     2015\n",
       "6'1     1908\n",
       "6'3      990\n",
       "5'8      946\n",
       "5'7      905\n",
       "6'4      749\n",
       "5'6      316\n",
       "6'5      246\n",
       "5'5      145\n",
       "6'6       93\n",
       "NaN       48\n",
       "5'4       30\n",
       "6'7       21\n",
       "5'3       18\n",
       "6'8       10\n",
       "5'2        5\n",
       "5'1        3\n",
       "6'9        2\n",
       "Name: Height, dtype: int64"
      ]
     },
     "execution_count": 216,
     "metadata": {},
     "output_type": "execute_result"
    }
   ],
   "source": [
    "fifa_clean['Height'].value_counts(dropna=False)"
   ]
  },
  {
   "cell_type": "code",
   "execution_count": 217,
   "metadata": {},
   "outputs": [],
   "source": [
    "fifa_clean['Height'].fillna('not measure' ,inplace=True)"
   ]
  },
  {
   "cell_type": "code",
   "execution_count": 218,
   "metadata": {},
   "outputs": [
    {
     "data": {
      "text/plain": [
       "6'0            2881\n",
       "5'10           2479\n",
       "5'9            2238\n",
       "5'11           2159\n",
       "6'2            2015\n",
       "6'1            1908\n",
       "6'3             990\n",
       "5'8             946\n",
       "5'7             905\n",
       "6'4             749\n",
       "5'6             316\n",
       "6'5             246\n",
       "5'5             145\n",
       "6'6              93\n",
       "not measure      48\n",
       "5'4              30\n",
       "6'7              21\n",
       "5'3              18\n",
       "6'8              10\n",
       "5'2               5\n",
       "5'1               3\n",
       "6'9               2\n",
       "Name: Height, dtype: int64"
      ]
     },
     "execution_count": 218,
     "metadata": {},
     "output_type": "execute_result"
    }
   ],
   "source": [
    "fifa_clean['Height'].value_counts(dropna=False)"
   ]
  },
  {
   "cell_type": "code",
   "execution_count": 219,
   "metadata": {},
   "outputs": [
    {
     "name": "stdout",
     "output_type": "stream",
     "text": [
      "<class 'pandas.core.frame.DataFrame'>\n",
      "Int64Index: 18207 entries, 0 to 18206\n",
      "Data columns (total 88 columns):\n",
      " #   Column                    Non-Null Count  Dtype  \n",
      "---  ------                    --------------  -----  \n",
      " 0   ID                        18207 non-null  int64  \n",
      " 1   Name                      18207 non-null  object \n",
      " 2   Age                       18207 non-null  int64  \n",
      " 3   Photo                     18207 non-null  object \n",
      " 4   Nationality               18207 non-null  object \n",
      " 5   Flag                      18207 non-null  object \n",
      " 6   Overall                   18207 non-null  int64  \n",
      " 7   Potential                 18207 non-null  int64  \n",
      " 8   Club                      17966 non-null  object \n",
      " 9   Club Logo                 18207 non-null  object \n",
      " 10  Value                     18207 non-null  object \n",
      " 11  Wage                      18207 non-null  object \n",
      " 12  Special                   18207 non-null  int64  \n",
      " 13  Preferred Foot            18159 non-null  object \n",
      " 14  International Reputation  18159 non-null  float64\n",
      " 15  Weak Foot                 18159 non-null  float64\n",
      " 16  Skill Moves               18159 non-null  float64\n",
      " 17  Work Rate                 18159 non-null  object \n",
      " 18  Body Type                 18159 non-null  object \n",
      " 19  Real Face                 18159 non-null  object \n",
      " 20  Position                  18147 non-null  object \n",
      " 21  Jersey Number             18147 non-null  float64\n",
      " 22  Joined                    16654 non-null  object \n",
      " 23  Loaned From               1264 non-null   object \n",
      " 24  Contract Valid Until      17918 non-null  object \n",
      " 25  Height                    18159 non-null  object \n",
      " 26  Weight                    18159 non-null  object \n",
      " 27  LS                        16122 non-null  object \n",
      " 28  ST                        16122 non-null  object \n",
      " 29  RS                        16122 non-null  object \n",
      " 30  LW                        16122 non-null  object \n",
      " 31  LF                        16122 non-null  object \n",
      " 32  CF                        16122 non-null  object \n",
      " 33  RF                        16122 non-null  object \n",
      " 34  RW                        16122 non-null  object \n",
      " 35  LAM                       16122 non-null  object \n",
      " 36  CAM                       16122 non-null  object \n",
      " 37  RAM                       16122 non-null  object \n",
      " 38  LM                        16122 non-null  object \n",
      " 39  LCM                       16122 non-null  object \n",
      " 40  CM                        16122 non-null  object \n",
      " 41  RCM                       16122 non-null  object \n",
      " 42  RM                        16122 non-null  object \n",
      " 43  LWB                       16122 non-null  object \n",
      " 44  LDM                       16122 non-null  object \n",
      " 45  CDM                       16122 non-null  object \n",
      " 46  RDM                       16122 non-null  object \n",
      " 47  RWB                       16122 non-null  object \n",
      " 48  LB                        16122 non-null  object \n",
      " 49  LCB                       16122 non-null  object \n",
      " 50  CB                        16122 non-null  object \n",
      " 51  RCB                       16122 non-null  object \n",
      " 52  RB                        16122 non-null  object \n",
      " 53  Crossing                  18159 non-null  float64\n",
      " 54  Finishing                 18159 non-null  float64\n",
      " 55  HeadingAccuracy           18159 non-null  float64\n",
      " 56  ShortPassing              18159 non-null  float64\n",
      " 57  Volleys                   18159 non-null  float64\n",
      " 58  Dribbling                 18159 non-null  float64\n",
      " 59  Curve                     18159 non-null  float64\n",
      " 60  FKAccuracy                18159 non-null  float64\n",
      " 61  LongPassing               18159 non-null  float64\n",
      " 62  BallControl               18159 non-null  float64\n",
      " 63  Acceleration              18159 non-null  float64\n",
      " 64  SprintSpeed               18159 non-null  float64\n",
      " 65  Agility                   18159 non-null  float64\n",
      " 66  Reactions                 18159 non-null  float64\n",
      " 67  Balance                   18159 non-null  float64\n",
      " 68  ShotPower                 18159 non-null  float64\n",
      " 69  Jumping                   18159 non-null  float64\n",
      " 70  Stamina                   18159 non-null  float64\n",
      " 71  Strength                  18159 non-null  float64\n",
      " 72  LongShots                 18159 non-null  float64\n",
      " 73  Aggression                18159 non-null  float64\n",
      " 74  Interceptions             18159 non-null  float64\n",
      " 75  Positioning               18159 non-null  float64\n",
      " 76  Vision                    18159 non-null  float64\n",
      " 77  Penalties                 18159 non-null  float64\n",
      " 78  Composure                 18159 non-null  float64\n",
      " 79  Marking                   18159 non-null  float64\n",
      " 80  StandingTackle            18159 non-null  float64\n",
      " 81  SlidingTackle             18159 non-null  float64\n",
      " 82  GKDiving                  18159 non-null  float64\n",
      " 83  GKHandling                18159 non-null  float64\n",
      " 84  GKKicking                 18159 non-null  float64\n",
      " 85  GKPositioning             18159 non-null  float64\n",
      " 86  GKReflexes                18159 non-null  float64\n",
      " 87  Release Clause            16643 non-null  object \n",
      "dtypes: float64(38), int64(5), object(45)\n",
      "memory usage: 12.4+ MB\n"
     ]
    }
   ],
   "source": [
    "fifa.info()"
   ]
  },
  {
   "cell_type": "code",
   "execution_count": 220,
   "metadata": {},
   "outputs": [
    {
     "name": "stdout",
     "output_type": "stream",
     "text": [
      "<class 'pandas.core.frame.DataFrame'>\n",
      "Int64Index: 18207 entries, 0 to 18206\n",
      "Data columns (total 82 columns):\n",
      " #   Column                    Non-Null Count  Dtype  \n",
      "---  ------                    --------------  -----  \n",
      " 0   Name                      18207 non-null  object \n",
      " 1   Age                       18207 non-null  int64  \n",
      " 2   Nationality               18207 non-null  object \n",
      " 3   Overall                   18207 non-null  int64  \n",
      " 4   Potential                 18207 non-null  int64  \n",
      " 5   Club                      18207 non-null  object \n",
      " 6   Value                     18207 non-null  float64\n",
      " 7   Wage                      18207 non-null  float64\n",
      " 8   Special                   18207 non-null  int64  \n",
      " 9   Preferred Foot            18207 non-null  object \n",
      " 10  International Reputation  18207 non-null  float64\n",
      " 11  Weak Foot                 18207 non-null  float64\n",
      " 12  Skill Moves               18207 non-null  float64\n",
      " 13  Work Rate                 18207 non-null  object \n",
      " 14  Body Type                 18207 non-null  object \n",
      " 15  Position                  18207 non-null  object \n",
      " 16  Joined                    18207 non-null  object \n",
      " 17  Contract Valid Until      18207 non-null  object \n",
      " 18  Height                    18207 non-null  object \n",
      " 19  Weight                    18207 non-null  float64\n",
      " 20  LS                        18207 non-null  float64\n",
      " 21  ST                        18207 non-null  float64\n",
      " 22  RS                        18207 non-null  float64\n",
      " 23  LW                        18207 non-null  float64\n",
      " 24  LF                        18207 non-null  float64\n",
      " 25  CF                        18207 non-null  float64\n",
      " 26  RF                        18207 non-null  float64\n",
      " 27  RW                        18207 non-null  float64\n",
      " 28  LAM                       18207 non-null  float64\n",
      " 29  CAM                       18207 non-null  float64\n",
      " 30  RAM                       18207 non-null  float64\n",
      " 31  LM                        18207 non-null  float64\n",
      " 32  LCM                       18207 non-null  float64\n",
      " 33  CM                        18207 non-null  float64\n",
      " 34  RCM                       18207 non-null  float64\n",
      " 35  RM                        18207 non-null  float64\n",
      " 36  LWB                       18207 non-null  float64\n",
      " 37  LDM                       18207 non-null  float64\n",
      " 38  CDM                       18207 non-null  float64\n",
      " 39  RDM                       18207 non-null  float64\n",
      " 40  RWB                       18207 non-null  float64\n",
      " 41  LB                        18207 non-null  float64\n",
      " 42  LCB                       18207 non-null  float64\n",
      " 43  CB                        18207 non-null  float64\n",
      " 44  RCB                       18207 non-null  float64\n",
      " 45  RB                        18207 non-null  float64\n",
      " 46  Crossing                  18207 non-null  float64\n",
      " 47  Finishing                 18207 non-null  float64\n",
      " 48  HeadingAccuracy           18207 non-null  float64\n",
      " 49  ShortPassing              18207 non-null  float64\n",
      " 50  Volleys                   18207 non-null  float64\n",
      " 51  Dribbling                 18207 non-null  float64\n",
      " 52  Curve                     18207 non-null  float64\n",
      " 53  FKAccuracy                18207 non-null  float64\n",
      " 54  LongPassing               18207 non-null  float64\n",
      " 55  BallControl               18207 non-null  float64\n",
      " 56  Acceleration              18207 non-null  float64\n",
      " 57  SprintSpeed               18207 non-null  float64\n",
      " 58  Agility                   18207 non-null  float64\n",
      " 59  Reactions                 18207 non-null  float64\n",
      " 60  Balance                   18207 non-null  float64\n",
      " 61  ShotPower                 18207 non-null  float64\n",
      " 62  Jumping                   18207 non-null  float64\n",
      " 63  Stamina                   18207 non-null  float64\n",
      " 64  Strength                  18207 non-null  float64\n",
      " 65  LongShots                 18207 non-null  float64\n",
      " 66  Aggression                18207 non-null  float64\n",
      " 67  Interceptions             18207 non-null  float64\n",
      " 68  Positioning               18207 non-null  float64\n",
      " 69  Vision                    18207 non-null  float64\n",
      " 70  Penalties                 18207 non-null  float64\n",
      " 71  Composure                 18207 non-null  float64\n",
      " 72  Marking                   18207 non-null  float64\n",
      " 73  StandingTackle            18207 non-null  float64\n",
      " 74  SlidingTackle             18207 non-null  float64\n",
      " 75  GKDiving                  18207 non-null  float64\n",
      " 76  GKHandling                18207 non-null  float64\n",
      " 77  GKKicking                 18207 non-null  float64\n",
      " 78  GKPositioning             18207 non-null  float64\n",
      " 79  GKReflexes                18207 non-null  float64\n",
      " 80  Release Clause            18207 non-null  float64\n",
      " 81  year                      18207 non-null  object \n",
      "dtypes: float64(67), int64(4), object(11)\n",
      "memory usage: 11.5+ MB\n"
     ]
    }
   ],
   "source": [
    "fifa_clean.info()"
   ]
  },
  {
   "cell_type": "markdown",
   "metadata": {},
   "source": [
    "# VISUALIZATION"
   ]
  },
  {
   "cell_type": "code",
   "execution_count": 258,
   "metadata": {},
   "outputs": [
    {
     "data": {
      "image/png": "[encoded data removed]",
      "text/plain": [
       "<Figure size 432x288 with 1 Axes>"
      ]
     },
     "metadata": {},
     "output_type": "display_data"
    }
   ],
   "source": [
    "#pie chart\n",
    "\n",
    "plt.title('Foot Preference of FIFA Players',fontdict={'fontweight':'bold','fontsize':15})\n",
    "left = fifa_clean.loc[fifa['Preferred Foot'] == 'Left'].count()[0]\n",
    "right = fifa_clean.loc[fifa['Preferred Foot'] == 'Right'].count()[0]\n",
    "labels=['left','right']\n",
    "colors=['#9dd9fc','#022438']\n",
    "\n",
    "plt.pie([left,right]  ,labels=labels,colors=colors, autopct='%.2f %%')\n",
    "plt.savefig('PIE for preferred foot.png')\n",
    "plt.show()"
   ]
  },
  {
   "cell_type": "code",
   "execution_count": 259,
   "metadata": {},
   "outputs": [],
   "source": [
    "#boxplot\n",
    "#comparing three teams\n",
    "barcelona=fifa_clean.loc[fifa_clean.Club=='FC Barcelona']['Overall']\n",
    "liverpool=fifa_clean.loc[fifa_clean.Club=='Liverpool']['Overall']\n",
    "madrid=fifa_clean.loc[fifa_clean.Club=='Real Madrid']['Overall']\n"
   ]
  },
  {
   "cell_type": "code",
   "execution_count": 260,
   "metadata": {},
   "outputs": [
    {
     "data": {
      "image/png": "[encoded data removed]",
      "text/plain": [
       "<Figure size 432x288 with 1 Axes>"
      ]
     },
     "metadata": {},
     "output_type": "display_data"
    },
    {
     "data": {
      "text/plain": [
       "<Figure size 360x576 with 0 Axes>"
      ]
     },
     "metadata": {},
     "output_type": "display_data"
    }
   ],
   "source": [
    "plt.style.use('ggplot')\n",
    "plt.title('THE COMPARISION OF FOOTBALL TEAMS', fontdict={'fontweight':'bold', 'fontsize': 14})\n",
    "labels=['FC Barcelona','Liverpool','Real Madrid']\n",
    "boxes= plt.boxplot([barcelona,liverpool,madrid],labels=labels,medianprops={'linewidth':2} ,patch_artist=True)\n",
    "\n",
    "for box in boxes['boxes']:\n",
    "    box.set(color='#1b1138',linewidth=2,facecolor='#c3b4f0')\n",
    "\n",
    "    \n",
    "plt.ylabel('FIFA overall RATING')\n",
    "plt.xlabel('CLUBS')\n",
    "plt.figure(figsize=(5,8))\n",
    "plt.savefig('BOXPLOT comparing teams.png',dpi=300)\n",
    "plt.show()"
   ]
  },
  {
   "cell_type": "code",
   "execution_count": 261,
   "metadata": {},
   "outputs": [
    {
     "data": {
      "text/html": [
       "<div>\n",
       "<style scoped>\n",
       "    .dataframe tbody tr th:only-of-type {\n",
       "        vertical-align: middle;\n",
       "    }\n",
       "\n",
       "    .dataframe tbody tr th {\n",
       "        vertical-align: top;\n",
       "    }\n",
       "\n",
       "    .dataframe thead th {\n",
       "        text-align: right;\n",
       "    }\n",
       "</style>\n",
       "<table border=\"1\" class=\"dataframe\">\n",
       "  <thead>\n",
       "    <tr style=\"text-align: right;\">\n",
       "      <th></th>\n",
       "      <th>Weight</th>\n",
       "      <th>Weak Foot</th>\n",
       "      <th>Penalties</th>\n",
       "      <th>Overall</th>\n",
       "      <th>Potential</th>\n",
       "    </tr>\n",
       "  </thead>\n",
       "  <tbody>\n",
       "    <tr>\n",
       "      <th>Weight</th>\n",
       "      <td>1.000000</td>\n",
       "      <td>-0.130724</td>\n",
       "      <td>-0.253387</td>\n",
       "      <td>0.154557</td>\n",
       "      <td>-0.006935</td>\n",
       "    </tr>\n",
       "    <tr>\n",
       "      <th>Weak Foot</th>\n",
       "      <td>-0.130724</td>\n",
       "      <td>1.000000</td>\n",
       "      <td>0.330252</td>\n",
       "      <td>0.211910</td>\n",
       "      <td>0.162077</td>\n",
       "    </tr>\n",
       "    <tr>\n",
       "      <th>Penalties</th>\n",
       "      <td>-0.253387</td>\n",
       "      <td>0.330252</td>\n",
       "      <td>1.000000</td>\n",
       "      <td>0.341259</td>\n",
       "      <td>0.223909</td>\n",
       "    </tr>\n",
       "    <tr>\n",
       "      <th>Overall</th>\n",
       "      <td>0.154557</td>\n",
       "      <td>0.211910</td>\n",
       "      <td>0.341259</td>\n",
       "      <td>1.000000</td>\n",
       "      <td>0.660939</td>\n",
       "    </tr>\n",
       "    <tr>\n",
       "      <th>Potential</th>\n",
       "      <td>-0.006935</td>\n",
       "      <td>0.162077</td>\n",
       "      <td>0.223909</td>\n",
       "      <td>0.660939</td>\n",
       "      <td>1.000000</td>\n",
       "    </tr>\n",
       "  </tbody>\n",
       "</table>\n",
       "</div>"
      ],
      "text/plain": [
       "             Weight  Weak Foot  Penalties   Overall  Potential\n",
       "Weight     1.000000  -0.130724  -0.253387  0.154557  -0.006935\n",
       "Weak Foot -0.130724   1.000000   0.330252  0.211910   0.162077\n",
       "Penalties -0.253387   0.330252   1.000000  0.341259   0.223909\n",
       "Overall    0.154557   0.211910   0.341259  1.000000   0.660939\n",
       "Potential -0.006935   0.162077   0.223909  0.660939   1.000000"
      ]
     },
     "execution_count": 261,
     "metadata": {},
     "output_type": "execute_result"
    }
   ],
   "source": [
    "#HEATMAP\n",
    "fifa_clean=fifa_clean[['Weight','Weak Foot','Penalties','Overall','Potential']]\n",
    "fifa_clean.corr()"
   ]
  },
  {
   "cell_type": "code",
   "execution_count": 262,
   "metadata": {},
   "outputs": [
    {
     "data": {
      "image/png": "[encoded data removed]",
      "text/plain": [
       "<Figure size 576x576 with 2 Axes>"
      ]
     },
     "metadata": {},
     "output_type": "display_data"
    }
   ],
   "source": [
    "plt.figure(figsize=(8,8))\n",
    "seaborn.heatmap(fifa_clean.corr().head(), annot=True, cmap=\"mako\").set_title('Seaborn')\n",
    "\n",
    "plt.savefig('heatmap.png',dpi=300)\n",
    "plt.show()"
   ]
  },
  {
   "cell_type": "code",
   "execution_count": 263,
   "metadata": {},
   "outputs": [
    {
     "data": {
      "image/png": "[encoded data removed]",
      "text/plain": [
       "<Figure size 432x288 with 1 Axes>"
      ]
     },
     "metadata": {},
     "output_type": "display_data"
    }
   ],
   "source": [
    "#histogram\n",
    "plt.title('DISTRIBUTION OF PLAYER SKILLS IN FIFA',fontdict={'fontweight':'bold','fontsize':15})\n",
    "bins=[40,50,60,70,80,90,100]\n",
    "plt.hist(fifa_clean.Overall,bins=bins, color='#4c9dcf')\n",
    "plt.ylabel('NUMBER OF PLAYERS')\n",
    "plt.xlabel('OVERALL') \n",
    "plt.savefig('histogram FIFA OF SKILLS.png',dpi=300)\n",
    "plt.show()"
   ]
  },
  {
   "cell_type": "code",
   "execution_count": null,
   "metadata": {},
   "outputs": [],
   "source": []
  },
  {
   "cell_type": "code",
   "execution_count": null,
   "metadata": {},
   "outputs": [],
   "source": []
  },
  {
   "cell_type": "code",
   "execution_count": null,
   "metadata": {},
   "outputs": [],
   "source": []
  }
 ],
 "metadata": {
  "kernelspec": {
   "display_name": "Python 3",
   "language": "python",
   "name": "python3"
  },
  "language_info": {
   "codemirror_mode": {
    "name": "ipython",
    "version": 3
   },
   "file_extension": ".py",
   "mimetype": "text/x-python",
   "name": "python",
   "nbconvert_exporter": "python",
   "pygments_lexer": "ipython3",
   "version": "3.8.5"
  }
 },
 "nbformat": 4,
 "nbformat_minor": 4
}
